{
 "cells": [
  {
   "cell_type": "markdown",
   "metadata": {},
   "source": [
    "1) A recipe you are reading states how many grams you need for the ingredient. Unfortunately, your store only sells items in ounces. Create a function to convert grams to ounces. ounces = 28.3495231 * grams"
   ]
  },
  {
   "cell_type": "code",
   "execution_count": 170,
   "metadata": {},
   "outputs": [
    {
     "name": "stdout",
     "output_type": "stream",
     "text": [
      "100 grams in ounces: 2834.9523099999997\n"
     ]
    }
   ],
   "source": [
    "def grams_to_ounces(grams):\n",
    "    return 28.3495231 * grams\n",
    "print(\"100 grams in ounces:\", grams_to_ounces(100))"
   ]
  },
  {
   "cell_type": "markdown",
   "metadata": {},
   "source": [
    "2) Read in a Fahrenheit temperature. Calculate and display the equivalent centigrade temperature. The following formula is used for the conversion: C = (5 / 9) * (F – 32)"
   ]
  },
  {
   "cell_type": "code",
   "execution_count": 169,
   "metadata": {},
   "outputs": [
    {
     "name": "stdout",
     "output_type": "stream",
     "text": [
      "98°F in Celsius: 36.66666666666667\n"
     ]
    }
   ],
   "source": [
    "def fahrenheit_to_celsius(fahrenheit):\n",
    "    return (5 / 9) * (fahrenheit - 32)\n",
    "print(\"98°F in Celsius:\", fahrenheit_to_celsius(98)) "
   ]
  },
  {
   "cell_type": "markdown",
   "metadata": {},
   "source": [
    "3) Write a program to solve a classic puzzle: We count 35 heads and 94 legs among the chickens and rabbits in a farm. How many rabbits and how many chickens do we have? create function: solve(numheads, numlegs):\n"
   ]
  },
  {
   "cell_type": "code",
   "execution_count": 171,
   "metadata": {},
   "outputs": [
    {
     "name": "stdout",
     "output_type": "stream",
     "text": [
      "Chickens: 23, Rabbits: 12\n"
     ]
    }
   ],
   "source": [
    "def solve(numheads, numlegs):\n",
    "    for chickens in range(numheads + 1):\n",
    "        rabbits = numheads - chickens\n",
    "        if 2 * chickens + 4 * rabbits == numlegs:\n",
    "            return chickens, rabbits\n",
    "    return \"No solution\"\n",
    "chickens, rabbits = solve(35, 94)\n",
    "print(f\"Chickens: {chickens}, Rabbits: {rabbits}\") "
   ]
  },
  {
   "cell_type": "markdown",
   "metadata": {},
   "source": [
    "4) You are given list of numbers separated by spaces. Write a function filter_prime which will take list of numbers as an agrument and returns only prime numbers from the list."
   ]
  },
  {
   "cell_type": "code",
   "execution_count": 172,
   "metadata": {},
   "outputs": [
    {
     "name": "stdout",
     "output_type": "stream",
     "text": [
      "Prime numbers: [43, 23, 11, 19, 3]\n"
     ]
    }
   ],
   "source": [
    "def test_prime(n):\n",
    "    if n<2:\n",
    "        return False\n",
    "    for i in range(2,int(n**0.5) +1):\n",
    "        if n%i==0:\n",
    "            return False\n",
    "    return True\n",
    "\n",
    "def filter_prime(numbers):\n",
    "    return [n for n in numbers if test_prime(n)]\n",
    "\n",
    "numbers = list(map(int, input(\"Enter numbers separated by spaces: \").split()))\n",
    "print(\"Prime numbers:\", filter_prime(numbers))"
   ]
  },
  {
   "cell_type": "markdown",
   "metadata": {},
   "source": [
    "5) Write a function that accepts string from user and print all permutations of that string."
   ]
  },
  {
   "cell_type": "code",
   "execution_count": 173,
   "metadata": {},
   "outputs": [
    {
     "name": "stdout",
     "output_type": "stream",
     "text": [
      "Permutations: ['kazakh', 'kazahk', 'kazkah', 'kazkha', 'kazhak', 'kazhka', 'kaazkh', 'kaazhk', 'kaakzh', 'kaakhz', 'kaahzk', 'kaahkz', 'kakzah', 'kakzha', 'kakazh', 'kakahz', 'kakhza', 'kakhaz', 'kahzak', 'kahzka', 'kahazk', 'kahakz', 'kahkza', 'kahkaz', 'kzaakh', 'kzaahk', 'kzakah', 'kzakha', 'kzahak', 'kzahka', 'kzaakh', 'kzaahk', 'kzakah', 'kzakha', 'kzahak', 'kzahka', 'kzkaah', 'kzkaha', 'kzkaah', 'kzkaha', 'kzkhaa', 'kzkhaa', 'kzhaak', 'kzhaka', 'kzhaak', 'kzhaka', 'kzhkaa', 'kzhkaa', 'kaazkh', 'kaazhk', 'kaakzh', 'kaakhz', 'kaahzk', 'kaahkz', 'kazakh', 'kazahk', 'kazkah', 'kazkha', 'kazhak', 'kazhka', 'kakazh', 'kakahz', 'kakzah', 'kakzha', 'kakhaz', 'kakhza', 'kahazk', 'kahakz', 'kahzak', 'kahzka', 'kahkaz', 'kahkza', 'kkazah', 'kkazha', 'kkaazh', 'kkaahz', 'kkahza', 'kkahaz', 'kkzaah', 'kkzaha', 'kkzaah', 'kkzaha', 'kkzhaa', 'kkzhaa', 'kkaazh', 'kkaahz', 'kkazah', 'kkazha', 'kkahaz', 'kkahza', 'kkhaza', 'kkhaaz', 'kkhzaa', 'kkhzaa', 'kkhaaz', 'kkhaza', 'khazak', 'khazka', 'khaazk', 'khaakz', 'khakza', 'khakaz', 'khzaak', 'khzaka', 'khzaak', 'khzaka', 'khzkaa', 'khzkaa', 'khaazk', 'khaakz', 'khazak', 'khazka', 'khakaz', 'khakza', 'khkaza', 'khkaaz', 'khkzaa', 'khkzaa', 'khkaaz', 'khkaza', 'akzakh', 'akzahk', 'akzkah', 'akzkha', 'akzhak', 'akzhka', 'akazkh', 'akazhk', 'akakzh', 'akakhz', 'akahzk', 'akahkz', 'akkzah', 'akkzha', 'akkazh', 'akkahz', 'akkhza', 'akkhaz', 'akhzak', 'akhzka', 'akhazk', 'akhakz', 'akhkza', 'akhkaz', 'azkakh', 'azkahk', 'azkkah', 'azkkha', 'azkhak', 'azkhka', 'azakkh', 'azakhk', 'azakkh', 'azakhk', 'azahkk', 'azahkk', 'azkkah', 'azkkha', 'azkakh', 'azkahk', 'azkhka', 'azkhak', 'azhkak', 'azhkka', 'azhakk', 'azhakk', 'azhkka', 'azhkak', 'aakzkh', 'aakzhk', 'aakkzh', 'aakkhz', 'aakhzk', 'aakhkz', 'aazkkh', 'aazkhk', 'aazkkh', 'aazkhk', 'aazhkk', 'aazhkk', 'aakkzh', 'aakkhz', 'aakzkh', 'aakzhk', 'aakhkz', 'aakhzk', 'aahkzk', 'aahkkz', 'aahzkk', 'aahzkk', 'aahkkz', 'aahkzk', 'akkzah', 'akkzha', 'akkazh', 'akkahz', 'akkhza', 'akkhaz', 'akzkah', 'akzkha', 'akzakh', 'akzahk', 'akzhka', 'akzhak', 'akakzh', 'akakhz', 'akazkh', 'akazhk', 'akahkz', 'akahzk', 'akhkza', 'akhkaz', 'akhzka', 'akhzak', 'akhakz', 'akhazk', 'ahkzak', 'ahkzka', 'ahkazk', 'ahkakz', 'ahkkza', 'ahkkaz', 'ahzkak', 'ahzkka', 'ahzakk', 'ahzakk', 'ahzkka', 'ahzkak', 'ahakzk', 'ahakkz', 'ahazkk', 'ahazkk', 'ahakkz', 'ahakzk', 'ahkkza', 'ahkkaz', 'ahkzka', 'ahkzak', 'ahkakz', 'ahkazk', 'zkaakh', 'zkaahk', 'zkakah', 'zkakha', 'zkahak', 'zkahka', 'zkaakh', 'zkaahk', 'zkakah', 'zkakha', 'zkahak', 'zkahka', 'zkkaah', 'zkkaha', 'zkkaah', 'zkkaha', 'zkkhaa', 'zkkhaa', 'zkhaak', 'zkhaka', 'zkhaak', 'zkhaka', 'zkhkaa', 'zkhkaa', 'zakakh', 'zakahk', 'zakkah', 'zakkha', 'zakhak', 'zakhka', 'zaakkh', 'zaakhk', 'zaakkh', 'zaakhk', 'zaahkk', 'zaahkk', 'zakkah', 'zakkha', 'zakakh', 'zakahk', 'zakhka', 'zakhak', 'zahkak', 'zahkka', 'zahakk', 'zahakk', 'zahkka', 'zahkak', 'zakakh', 'zakahk', 'zakkah', 'zakkha', 'zakhak', 'zakhka', 'zaakkh', 'zaakhk', 'zaakkh', 'zaakhk', 'zaahkk', 'zaahkk', 'zakkah', 'zakkha', 'zakakh', 'zakahk', 'zakhka', 'zakhak', 'zahkak', 'zahkka', 'zahakk', 'zahakk', 'zahkka', 'zahkak', 'zkkaah', 'zkkaha', 'zkkaah', 'zkkaha', 'zkkhaa', 'zkkhaa', 'zkakah', 'zkakha', 'zkaakh', 'zkaahk', 'zkahka', 'zkahak', 'zkakah', 'zkakha', 'zkaakh', 'zkaahk', 'zkahka', 'zkahak', 'zkhkaa', 'zkhkaa', 'zkhaka', 'zkhaak', 'zkhaka', 'zkhaak', 'zhkaak', 'zhkaka', 'zhkaak', 'zhkaka', 'zhkkaa', 'zhkkaa', 'zhakak', 'zhakka', 'zhaakk', 'zhaakk', 'zhakka', 'zhakak', 'zhakak', 'zhakka', 'zhaakk', 'zhaakk', 'zhakka', 'zhakak', 'zhkkaa', 'zhkkaa', 'zhkaka', 'zhkaak', 'zhkaka', 'zhkaak', 'akazkh', 'akazhk', 'akakzh', 'akakhz', 'akahzk', 'akahkz', 'akzakh', 'akzahk', 'akzkah', 'akzkha', 'akzhak', 'akzhka', 'akkazh', 'akkahz', 'akkzah', 'akkzha', 'akkhaz', 'akkhza', 'akhazk', 'akhakz', 'akhzak', 'akhzka', 'akhkaz', 'akhkza', 'aakzkh', 'aakzhk', 'aakkzh', 'aakkhz', 'aakhzk', 'aakhkz', 'aazkkh', 'aazkhk', 'aazkkh', 'aazkhk', 'aazhkk', 'aazhkk', 'aakkzh', 'aakkhz', 'aakzkh', 'aakzhk', 'aakhkz', 'aakhzk', 'aahkzk', 'aahkkz', 'aahzkk', 'aahzkk', 'aahkkz', 'aahkzk', 'azkakh', 'azkahk', 'azkkah', 'azkkha', 'azkhak', 'azkhka', 'azakkh', 'azakhk', 'azakkh', 'azakhk', 'azahkk', 'azahkk', 'azkkah', 'azkkha', 'azkakh', 'azkahk', 'azkhka', 'azkhak', 'azhkak', 'azhkka', 'azhakk', 'azhakk', 'azhkka', 'azhkak', 'akkazh', 'akkahz', 'akkzah', 'akkzha', 'akkhaz', 'akkhza', 'akakzh', 'akakhz', 'akazkh', 'akazhk', 'akahkz', 'akahzk', 'akzkah', 'akzkha', 'akzakh', 'akzahk', 'akzhka', 'akzhak', 'akhkaz', 'akhkza', 'akhakz', 'akhazk', 'akhzka', 'akhzak', 'ahkazk', 'ahkakz', 'ahkzak', 'ahkzka', 'ahkkaz', 'ahkkza', 'ahakzk', 'ahakkz', 'ahazkk', 'ahazkk', 'ahakkz', 'ahakzk', 'ahzkak', 'ahzkka', 'ahzakk', 'ahzakk', 'ahzkka', 'ahzkak', 'ahkkaz', 'ahkkza', 'ahkakz', 'ahkazk', 'ahkzka', 'ahkzak', 'kkazah', 'kkazha', 'kkaazh', 'kkaahz', 'kkahza', 'kkahaz', 'kkzaah', 'kkzaha', 'kkzaah', 'kkzaha', 'kkzhaa', 'kkzhaa', 'kkaazh', 'kkaahz', 'kkazah', 'kkazha', 'kkahaz', 'kkahza', 'kkhaza', 'kkhaaz', 'kkhzaa', 'kkhzaa', 'kkhaaz', 'kkhaza', 'kakzah', 'kakzha', 'kakazh', 'kakahz', 'kakhza', 'kakhaz', 'kazkah', 'kazkha', 'kazakh', 'kazahk', 'kazhka', 'kazhak', 'kaakzh', 'kaakhz', 'kaazkh', 'kaazhk', 'kaahkz', 'kaahzk', 'kahkza', 'kahkaz', 'kahzka', 'kahzak', 'kahakz', 'kahazk', 'kzkaah', 'kzkaha', 'kzkaah', 'kzkaha', 'kzkhaa', 'kzkhaa', 'kzakah', 'kzakha', 'kzaakh', 'kzaahk', 'kzahka', 'kzahak', 'kzakah', 'kzakha', 'kzaakh', 'kzaahk', 'kzahka', 'kzahak', 'kzhkaa', 'kzhkaa', 'kzhaka', 'kzhaak', 'kzhaka', 'kzhaak', 'kakazh', 'kakahz', 'kakzah', 'kakzha', 'kakhaz', 'kakhza', 'kaakzh', 'kaakhz', 'kaazkh', 'kaazhk', 'kaahkz', 'kaahzk', 'kazkah', 'kazkha', 'kazakh', 'kazahk', 'kazhka', 'kazhak', 'kahkaz', 'kahkza', 'kahakz', 'kahazk', 'kahzka', 'kahzak', 'khkaza', 'khkaaz', 'khkzaa', 'khkzaa', 'khkaaz', 'khkaza', 'khakza', 'khakaz', 'khazka', 'khazak', 'khaakz', 'khaazk', 'khzkaa', 'khzkaa', 'khzaka', 'khzaak', 'khzaka', 'khzaak', 'khakaz', 'khakza', 'khaakz', 'khaazk', 'khazka', 'khazak', 'hkazak', 'hkazka', 'hkaazk', 'hkaakz', 'hkakza', 'hkakaz', 'hkzaak', 'hkzaka', 'hkzaak', 'hkzaka', 'hkzkaa', 'hkzkaa', 'hkaazk', 'hkaakz', 'hkazak', 'hkazka', 'hkakaz', 'hkakza', 'hkkaza', 'hkkaaz', 'hkkzaa', 'hkkzaa', 'hkkaaz', 'hkkaza', 'hakzak', 'hakzka', 'hakazk', 'hakakz', 'hakkza', 'hakkaz', 'hazkak', 'hazkka', 'hazakk', 'hazakk', 'hazkka', 'hazkak', 'haakzk', 'haakkz', 'haazkk', 'haazkk', 'haakkz', 'haakzk', 'hakkza', 'hakkaz', 'hakzka', 'hakzak', 'hakakz', 'hakazk', 'hzkaak', 'hzkaka', 'hzkaak', 'hzkaka', 'hzkkaa', 'hzkkaa', 'hzakak', 'hzakka', 'hzaakk', 'hzaakk', 'hzakka', 'hzakak', 'hzakak', 'hzakka', 'hzaakk', 'hzaakk', 'hzakka', 'hzakak', 'hzkkaa', 'hzkkaa', 'hzkaka', 'hzkaak', 'hzkaka', 'hzkaak', 'hakazk', 'hakakz', 'hakzak', 'hakzka', 'hakkaz', 'hakkza', 'haakzk', 'haakkz', 'haazkk', 'haazkk', 'haakkz', 'haakzk', 'hazkak', 'hazkka', 'hazakk', 'hazakk', 'hazkka', 'hazkak', 'hakkaz', 'hakkza', 'hakakz', 'hakazk', 'hakzka', 'hakzak', 'hkkaza', 'hkkaaz', 'hkkzaa', 'hkkzaa', 'hkkaaz', 'hkkaza', 'hkakza', 'hkakaz', 'hkazka', 'hkazak', 'hkaakz', 'hkaazk', 'hkzkaa', 'hkzkaa', 'hkzaka', 'hkzaak', 'hkzaka', 'hkzaak', 'hkakaz', 'hkakza', 'hkaakz', 'hkaazk', 'hkazka', 'hkazak']\n"
     ]
    }
   ],
   "source": [
    "from itertools import permutations\n",
    "def string_permutations(s):\n",
    "    perms = [''.join(p) for p in permutations(s)]\n",
    "    print(\"Permutations:\", perms)\n",
    "\n",
    "s = input(\"Enter a string: \")\n",
    "string_permutations(s)"
   ]
  },
  {
   "cell_type": "markdown",
   "metadata": {},
   "source": [
    "6) Write a function that accepts string from user, return a sentence with the words reversed. We are ready -> ready are We"
   ]
  },
  {
   "cell_type": "code",
   "execution_count": 174,
   "metadata": {},
   "outputs": [
    {
     "name": "stdout",
     "output_type": "stream",
     "text": [
      "Reversed sentence: la;sdad kfoko hool\n"
     ]
    }
   ],
   "source": [
    "def reverse_words(sentence):\n",
    "    return ' '.join(sentence.split()[::-1])\n",
    "sentence = input(\"Enter a sentence: \")\n",
    "print(\"Reversed sentence:\", reverse_words(sentence))"
   ]
  },
  {
   "cell_type": "markdown",
   "metadata": {},
   "source": [
    "7) Given a list of ints, return True if the array contains a 3 next to a 3 somewhere."
   ]
  },
  {
   "cell_type": "code",
   "execution_count": 176,
   "metadata": {},
   "outputs": [
    {
     "name": "stdout",
     "output_type": "stream",
     "text": [
      "True\n",
      "False\n",
      "False\n"
     ]
    }
   ],
   "source": [
    "def has_33(nums):\n",
    "    for i in range(len(nums) - 1):\n",
    "        if nums[i] == 3 and nums[i + 1] == 3:\n",
    "            return True\n",
    "    return False\n",
    "\n",
    "print(has_33([1, 3, 3]))\n",
    "print(has_33([1, 3, 1, 3]))\n",
    "print(has_33([3, 1, 3]))\n"
   ]
  },
  {
   "cell_type": "markdown",
   "metadata": {},
   "source": [
    "8) Write a function that takes in a list of integers and returns True if it contains 007 in order"
   ]
  },
  {
   "cell_type": "code",
   "execution_count": null,
   "metadata": {},
   "outputs": [],
   "source": [
    "def spy_game(nums):\n",
    "    code = [0, 0, 7]\n",
    "    for num in nums:\n",
    "        if num == code[0]:\n",
    "            code.pop(0) \n",
    "        if not code:\n",
    "            return True\n",
    "    return False\n",
    "\n",
    "print(spy_game([1,2,4,0,0,7,5]))\n",
    "print(spy_game([1,0,2,4,0,5,7]))\n",
    "print(spy_game([1,7,2,0,4,5,0])) "
   ]
  },
  {
   "cell_type": "markdown",
   "metadata": {},
   "source": [
    "9) Write a function that computes the volume of a sphere given its radius."
   ]
  },
  {
   "cell_type": "code",
   "execution_count": 179,
   "metadata": {},
   "outputs": [
    {
     "name": "stdout",
     "output_type": "stream",
     "text": [
      "523.5987755982989\n"
     ]
    }
   ],
   "source": [
    "import math\n",
    "def sphere_volume(radius):\n",
    "    return (4/3) * math.pi * radius**3\n",
    "\n",
    "print(sphere_volume(5))"
   ]
  },
  {
   "cell_type": "markdown",
   "metadata": {},
   "source": [
    "10) Write a Python function that takes a list and returns a new list with unique elements of the first list. Note: don't use collection set."
   ]
  },
  {
   "cell_type": "code",
   "execution_count": 180,
   "metadata": {},
   "outputs": [
    {
     "name": "stdout",
     "output_type": "stream",
     "text": [
      "[1, 2, 3, 4, 5]\n"
     ]
    }
   ],
   "source": [
    "def unique_elements(lst):\n",
    "    unique_lst = []\n",
    "    for item in lst:\n",
    "        if item not in unique_lst:\n",
    "            unique_lst.append(item)\n",
    "    return unique_lst\n",
    "\n",
    "print(unique_elements([1, 2, 2, 3, 4, 4, 5]))"
   ]
  },
  {
   "cell_type": "markdown",
   "metadata": {},
   "source": [
    "11) Write a Python function that checks whether a word or phrase is palindrome or not. Note: A palindrome is word, phrase, or sequence that reads the same backward as forward, e.g., madam"
   ]
  },
  {
   "cell_type": "code",
   "execution_count": 181,
   "metadata": {},
   "outputs": [
    {
     "name": "stdout",
     "output_type": "stream",
     "text": [
      "True\n",
      "True\n",
      "False\n"
     ]
    }
   ],
   "source": [
    "def is_palindrome(s):\n",
    "    s = s.replace(\" \", \"\").lower()\n",
    "    return s == s[::-1]\n",
    "\n",
    "print(is_palindrome(\"madam\"))\n",
    "print(is_palindrome(\"racecar\"))\n",
    "print(is_palindrome(\"hello\"))   "
   ]
  },
  {
   "cell_type": "markdown",
   "metadata": {},
   "source": [
    "12) Define a functino histogram() that takes a list of integers and prints a histogram to the screen."
   ]
  },
  {
   "cell_type": "code",
   "execution_count": 182,
   "metadata": {},
   "outputs": [
    {
     "name": "stdout",
     "output_type": "stream",
     "text": [
      "****\n",
      "*********\n",
      "*******\n"
     ]
    }
   ],
   "source": [
    "def histogram(lst):\n",
    "    for value in lst:\n",
    "        print('*' * value)\n",
    "\n",
    "histogram([4, 9, 7])"
   ]
  },
  {
   "cell_type": "markdown",
   "metadata": {},
   "source": [
    "13) Write a program able to play the \"Guess the number\" - game, where the number to be guessed is randomly chosen between 1 and 20. This is how it should work when run in a terminal:"
   ]
  },
  {
   "cell_type": "code",
   "execution_count": 184,
   "metadata": {},
   "outputs": [
    {
     "name": "stdout",
     "output_type": "stream",
     "text": [
      "Hello! What is your name?\n",
      "Well, Nurasyl, I am thinking of a number between 1 and 20.\n",
      "Take a guess.\n",
      "Your guess is too low.\n",
      "Take a guess.\n",
      "Good job, Nurasyl! You guessed my number in 2 guesses!\n"
     ]
    }
   ],
   "source": [
    "import random\n",
    "\n",
    "def guess_the_number():\n",
    "    print(\"Hello! What is your name?\")\n",
    "    name = input()\n",
    "\n",
    "    print(f\"Well, {name}, I am thinking of a number between 1 and 20.\")\n",
    "    number_to_guess = random.randint(1, 20)\n",
    "    attempts = 0\n",
    "    \n",
    "    while True:\n",
    "        print(\"Take a guess.\")\n",
    "        guess = int(input())\n",
    "        attempts += 1\n",
    "        \n",
    "        if guess < number_to_guess:\n",
    "            print(\"Your guess is too low.\")\n",
    "        elif guess > number_to_guess:\n",
    "            print(\"Your guess is too high.\")\n",
    "        else:\n",
    "            print(f\"Good job, {name}! You guessed my number in {attempts} guesses!\")\n",
    "            break\n",
    "\n",
    "guess_the_number()"
   ]
  }
 ],
 "metadata": {
  "kernelspec": {
   "display_name": "Python [conda env:base] *",
   "language": "python",
   "name": "conda-base-py"
  },
  "language_info": {
   "codemirror_mode": {
    "name": "ipython",
    "version": 3
   },
   "file_extension": ".py",
   "mimetype": "text/x-python",
   "name": "python",
   "nbconvert_exporter": "python",
   "pygments_lexer": "ipython3",
   "version": "3.12.7"
  }
 },
 "nbformat": 4,
 "nbformat_minor": 2
}
