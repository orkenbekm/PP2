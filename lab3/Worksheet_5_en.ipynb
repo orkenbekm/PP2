{
 "cells": [
  {
   "cell_type": "markdown",
   "metadata": {},
   "source": [
    "# Check and find all the errors in the lines of the code below and correct them.\n",
    "\n",
    "\n",
    "**Please be careful, there are not only syntactic errors, but also implementation errors. To fix errors associated with implementations, carefully check ** the expected results.**\n",
    "\n",
    "Some of the code blocks contain more than one error, keep this in mind.\n",
    "Run each code block, view errors (or the difference with the expected results) and correct them (one after another).\n",
    "\n",
    "\n",
    "**Pay attention: do not rewrite the code, just correct errors and the codes will work.**"
   ]
  },
  {
   "cell_type": "code",
   "execution_count": 1,
   "metadata": {},
   "outputs": [
    {
     "name": "stdout",
     "output_type": "stream",
     "text": [
      "10\n"
     ]
    }
   ],
   "source": [
    "variable_1 = 10\n",
    "\n",
    "print(variable_1)"
   ]
  },
  {
   "cell_type": "markdown",
   "metadata": {},
   "source": [
    "### Expected result:\n",
    "```\n",
    "10\n",
    "```"
   ]
  },
  {
   "cell_type": "code",
   "execution_count": 4,
   "metadata": {},
   "outputs": [
    {
     "name": "stdout",
     "output_type": "stream",
     "text": [
      "20 > 10\n"
     ]
    }
   ],
   "source": [
    "variable_2 = 20\n",
    "\n",
    "if variable_2 > 10:\n",
    " print(f\"{variable_2} > 10\".format(variable_2))"
   ]
  },
  {
   "cell_type": "markdown",
   "metadata": {},
   "source": [
    "### Expected result:\n",
    "```\n",
    "20 > 10\n",
    "```"
   ]
  },
  {
   "cell_type": "code",
   "execution_count": 5,
   "metadata": {},
   "outputs": [
    {
     "name": "stdout",
     "output_type": "stream",
     "text": [
      "0 1 2 3 4 5 6 7 8 9 "
     ]
    }
   ],
   "source": [
    "for i in range(10):\n",
    "    print(\"{}\".format(i), end=\" \")"
   ]
  },
  {
   "cell_type": "markdown",
   "metadata": {},
   "source": [
    "### Expected result:\n",
    "```\n",
    "0 1 2 3 4 5 6 7 8 9 \n",
    "```"
   ]
  },
  {
   "cell_type": "code",
   "execution_count": 6,
   "metadata": {},
   "outputs": [
    {
     "name": "stdout",
     "output_type": "stream",
     "text": [
      "1 2 3 4 5 "
     ]
    }
   ],
   "source": [
    "list_1 = [1,2,3,4,5]\n",
    "\n",
    "for num in list_1:\n",
    "    print(num, end=\" \")"
   ]
  },
  {
   "cell_type": "markdown",
   "metadata": {},
   "source": [
    "### Expected result:\n",
    "```\n",
    "0 1 2 3 4 5\n",
    "```"
   ]
  },
  {
   "cell_type": "code",
   "execution_count": 7,
   "metadata": {},
   "outputs": [
    {
     "name": "stdout",
     "output_type": "stream",
     "text": [
      "[0, 1, 2, 3, 4]\n"
     ]
    }
   ],
   "source": [
    "list_2 = []\n",
    "\n",
    "for i in range(5):\n",
    "    list_2.append(i)\n",
    "\n",
    "print(list_2)"
   ]
  },
  {
   "cell_type": "markdown",
   "metadata": {},
   "source": [
    "### Expected result:\n",
    "```\n",
    "[0, 1, 2, 3, 4]\n",
    "```"
   ]
  },
  {
   "cell_type": "code",
   "execution_count": 8,
   "metadata": {},
   "outputs": [
    {
     "name": "stdout",
     "output_type": "stream",
     "text": [
      "{20, 12}\n"
     ]
    }
   ],
   "source": [
    "def operations(a,b):\n",
    "    return {a*b, a + b}\n",
    "\n",
    "res = operations(10,2)\n",
    "\n",
    "print(res)"
   ]
  },
  {
   "cell_type": "markdown",
   "metadata": {},
   "source": [
    "### Expected result:\n",
    "```\n",
    "(20, 12)\n",
    "```"
   ]
  },
  {
   "cell_type": "code",
   "execution_count": 17,
   "metadata": {},
   "outputs": [
    {
     "name": "stdout",
     "output_type": "stream",
     "text": [
      "0 is even    2 is even    4 is even    6 is even    8 is even    "
     ]
    }
   ],
   "source": [
    "for i in range(10):\n",
    "    if i % 2 == 0:\n",
    "        print(f\"{i} is even\".format(i), end='    ')"
   ]
  },
  {
   "cell_type": "markdown",
   "metadata": {},
   "source": [
    "### Expected result:\n",
    "```\n",
    "0 is even\t2 is even\t4 is even\t6 is even\t8 is even\n",
    "```"
   ]
  },
  {
   "cell_type": "code",
   "execution_count": 21,
   "metadata": {},
   "outputs": [
    {
     "name": "stdout",
     "output_type": "stream",
     "text": [
      "Even numbers:[0, 2, 4, 6, 8, 10, 12, 14, 16, 18]\n",
      "Odd numbers:[1, 3, 5, 7, 9, 11, 13, 15, 17, 19]\n"
     ]
    }
   ],
   "source": [
    "even = []\n",
    "odd = []\n",
    "for i in range(20):\n",
    "    if i%2==0:\n",
    "          even.append(i)\n",
    "    else:\n",
    "        odd.append(i)\n",
    "\n",
    "print(\"Even numbers:{}\" .format(even))\n",
    "print(\"Odd numbers:{}\" .format(odd))"
   ]
  },
  {
   "cell_type": "markdown",
   "metadata": {},
   "source": [
    "### Expected result:\n",
    "```\n",
    "Even numbers: [0, 2, 4, 6, 8, 10, 12, 14, 16, 18]\n",
    "Odd numbers: [1, 3, 5, 7, 9, 11, 13, 15, 17, 19]\n",
    "```"
   ]
  },
  {
   "cell_type": "code",
   "execution_count": 22,
   "metadata": {},
   "outputs": [
    {
     "name": "stdout",
     "output_type": "stream",
     "text": [
      "25\n"
     ]
    }
   ],
   "source": [
    "people_age = {\"Adam\":25, \"John\":30, \"Jenny\":50}\n",
    "\n",
    "print(people_age[\"Adam\"])"
   ]
  },
  {
   "cell_type": "markdown",
   "metadata": {},
   "source": [
    "### Expected result:\n",
    "```\n",
    "25\n",
    "```"
   ]
  },
  {
   "cell_type": "code",
   "execution_count": 35,
   "metadata": {},
   "outputs": [
    {
     "name": "stdout",
     "output_type": "stream",
     "text": [
      "{(0, 1): 'Done', (1, 2): 'Done', (2, 3): 'Done', (3, 4): 'Done', (4, 5): 'Done', (5, 6): 'Done', (6, 7): 'Done', (7, 8): 'Done', (8, 9): 'Done', (9, 10): 'Done'}\n"
     ]
    }
   ],
   "source": [
    "pairs = {}\n",
    "\n",
    "for i in range(10):\n",
    "    tup1 = (i, i+1)\n",
    "    pairs[tup1] = 'Done'\n",
    "print(pairs)"
   ]
  },
  {
   "cell_type": "markdown",
   "metadata": {},
   "source": [
    "### Expected result:\n",
    "```\n",
    "{(0, 1): 'Done', (1, 2): 'Done', (2, 3): 'Done', (3, 4): 'Done', (4, 5): 'Done', (5, 6): 'Done', (6, 7): 'Done', (7, 8): 'Done', (8, 9): 'Done', (9, 10): 'Done'}\n",
    "```"
   ]
  },
  {
   "cell_type": "code",
   "execution_count": 34,
   "metadata": {},
   "outputs": [
    {
     "name": "stdout",
     "output_type": "stream",
     "text": [
      "{1, 2, 3}\n"
     ]
    }
   ],
   "source": [
    "set1 = set()\n",
    "\n",
    "set1.update([1,2,3])\n",
    "\n",
    "print(set1)"
   ]
  },
  {
   "cell_type": "markdown",
   "metadata": {},
   "source": [
    "### Expected result:\n",
    "```\n",
    "{(1, 2, 3)}\n",
    "```"
   ]
  },
  {
   "cell_type": "code",
   "execution_count": 40,
   "metadata": {},
   "outputs": [
    {
     "name": "stdout",
     "output_type": "stream",
     "text": [
      "[0, 1, 2, 3, 4, 5, 6, 7, 8, 9]\n"
     ]
    }
   ],
   "source": [
    "num = -1\n",
    "list_2 = []\n",
    "while num < 9:\n",
    "    num += 1\n",
    "    list_2.append(num)\n",
    "print(list_2)"
   ]
  },
  {
   "cell_type": "markdown",
   "metadata": {},
   "source": [
    "### Expected result:\n",
    "```\n",
    "[0, 1, 2, 3, 4, 5, 6, 7, 8, 9]\n",
    "```"
   ]
  },
  {
   "cell_type": "code",
   "execution_count": 41,
   "metadata": {},
   "outputs": [
    {
     "name": "stdout",
     "output_type": "stream",
     "text": [
      "I am a human object\n"
     ]
    }
   ],
   "source": [
    "class Human:\n",
    "    def __init__(self):\n",
    "        print(\"I am a human object\")\n",
    "h1 = Human()"
   ]
  },
  {
   "cell_type": "markdown",
   "metadata": {},
   "source": [
    "### Expected result:\n",
    "```\n",
    "I am a human object\n",
    "```"
   ]
  },
  {
   "cell_type": "code",
   "execution_count": 51,
   "metadata": {},
   "outputs": [
    {
     "name": "stdout",
     "output_type": "stream",
     "text": [
      "I am an person, my name is Bobby and i am 23 years old\n"
     ]
    }
   ],
   "source": [
    "class Person:\n",
    "    def __init__(self, name=None, age=None):\n",
    "        self.name = name\n",
    "        self.age = age\n",
    "    \n",
    "    def __str__(self):\n",
    "        return \"I am an person, my name is {} and i am {} years old\".format(self.name, self.age)\n",
    "\n",
    "a1 = Person(name=\"Bobby\",age=23)\n",
    "print(a1)"
   ]
  },
  {
   "cell_type": "markdown",
   "metadata": {},
   "source": [
    "### Expected result:\n",
    "```\n",
    "I am an person, my name is Bobby and i am 23 years old\n",
    "```"
   ]
  },
  {
   "cell_type": "code",
   "execution_count": 55,
   "metadata": {},
   "outputs": [
    {
     "name": "stdout",
     "output_type": "stream",
     "text": [
      "Audi was produced in 1993\n",
      "Start the vehicle Audi\n",
      "Stop the vehicle Audi\n"
     ]
    }
   ],
   "source": [
    "class Vehicle:\n",
    "    def __init__(self,model=None, year=None):\n",
    "        self.model = model\n",
    "        self.year = year\n",
    "    \n",
    "    def __str__(self):\n",
    "        return \"{} was produced in {}\".format(self.model, self.year)\n",
    "    \n",
    "    def start(self):\n",
    "        print(\"Start the vehicle {}\".format(self.model))\n",
    "    \n",
    "    def stop(self):\n",
    "        print(\"Stop the vehicle {}\".format(self.model))\n",
    "\n",
    "v1 = Vehicle(model = \"Audi\", year = 1993)\n",
    "print(v1)\n",
    "v1.start()\n",
    "v1.stop()"
   ]
  },
  {
   "cell_type": "markdown",
   "metadata": {},
   "source": [
    "### Expected result:\n",
    "```\n",
    "Audi was produced in 1993\n",
    "Start the vehicle Audi\n",
    "Stop the vehicle Audi\n",
    "```"
   ]
  },
  {
   "cell_type": "markdown",
   "metadata": {},
   "source": [
    "# Great work !!!"
   ]
  }
 ],
 "metadata": {
  "kernelspec": {
   "display_name": "base",
   "language": "python",
   "name": "python3"
  },
  "language_info": {
   "codemirror_mode": {
    "name": "ipython",
    "version": 3
   },
   "file_extension": ".py",
   "mimetype": "text/x-python",
   "name": "python",
   "nbconvert_exporter": "python",
   "pygments_lexer": "ipython3",
   "version": "3.12.7"
  }
 },
 "nbformat": 4,
 "nbformat_minor": 4
}
