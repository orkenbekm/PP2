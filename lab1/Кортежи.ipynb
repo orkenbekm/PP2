{
 "cells": [
  {
   "cell_type": "markdown",
   "metadata": {},
   "source": [
    "### Основы: Tuples (кортежи) [Домашнее задание]"
   ]
  },
  {
   "cell_type": "markdown",
   "metadata": {},
   "source": [
    "Пожалуйста, распакуйте следующий кортеж следующим образом.\n",
    "Примечание: Можете ли вы выполнить задачу, написав только одну строку кода?"
   ]
  },
  {
   "cell_type": "code",
   "execution_count": 5,
   "metadata": {},
   "outputs": [],
   "source": [
    "tuple1 = (1,2,\"Adam\")\n",
    "# Напишите свой код здесь:\n",
    "elem1, elem2, elem3 = tuple1\n",
    "# конец вашего кода"
   ]
  },
  {
   "cell_type": "code",
   "execution_count": 6,
   "metadata": {},
   "outputs": [
    {
     "name": "stdout",
     "output_type": "stream",
     "text": [
      "1\n",
      "2\n",
      "Adam\n"
     ]
    }
   ],
   "source": [
    "print(elem1)\n",
    "print(elem2)\n",
    "print(elem3)"
   ]
  },
  {
   "cell_type": "markdown",
   "metadata": {},
   "source": [
    "### Ожидаемые результаты:\n",
    "```\n",
    "1\n",
    "2\n",
    "Adam\n",
    "```"
   ]
  }
 ],
 "metadata": {
  "kernelspec": {
   "display_name": "Python [conda env:base] *",
   "language": "python",
   "name": "conda-base-py"
  }
 },
 "nbformat": 4,
 "nbformat_minor": 2
}
