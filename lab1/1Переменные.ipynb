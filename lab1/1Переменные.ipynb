{
 "cells": [
  {
   "cell_type": "markdown",
   "metadata": {},
   "source": [
    "### Основы: Переменные и типы [Домашнее задание]\n",
    "\n",
    "Практика использования переменных & типов."
   ]
  },
  {
   "cell_type": "markdown",
   "metadata": {},
   "source": [
    "Назначьте значения 15, 2.5, \"0\", \"Brad\", \"Pitt\" , True,  False следующим переменным num1, num2, str1, str2, str3, bool1, bool2."
   ]
  },
  {
   "cell_type": "code",
   "execution_count": 32,
   "metadata": {},
   "outputs": [],
   "source": [
    "# Начало вашего кода \n",
    "num1=15\n",
    "num2=2.5\n",
    "str1=\"0\"\n",
    "str2=\"Brad\"\n",
    "str3=\"Pitt\"\n",
    "bool1=True\n",
    "bool2=False\n",
    "# Конец вашего кода"
   ]
  },
  {
   "cell_type": "code",
   "execution_count": 33,
   "metadata": {},
   "outputs": [
    {
     "name": "stdout",
     "output_type": "stream",
     "text": [
      "15\n",
      "2.5\n",
      "0\n",
      "Brad\n",
      "Pitt\n",
      "True\n",
      "False\n"
     ]
    }
   ],
   "source": [
    "print(num1)\n",
    "print(num2)\n",
    "print(str1)\n",
    "print(str2)\n",
    "print(str3)\n",
    "print(bool1)\n",
    "print(bool2)"
   ]
  },
  {
   "cell_type": "markdown",
   "metadata": {},
   "source": [
    "### Ожидаемый результат:\n",
    "```\n",
    "15\n",
    "2.5\n",
    "0\n",
    "Brad\n",
    "Pitt\n",
    "True\n",
    "False\n",
    "```"
   ]
  }
 ],
 "metadata": {
  "kernelspec": {
   "display_name": "Python [conda env:base] *",
   "language": "python",
   "name": "conda-base-py"
  },
  "language_info": {
   "codemirror_mode": {
    "name": "ipython",
    "version": 3
   },
   "file_extension": ".py",
   "mimetype": "text/x-python",
   "name": "python",
   "nbconvert_exporter": "python",
   "pygments_lexer": "ipython3",
   "version": "3.12.7"
  }
 },
 "nbformat": 4,
 "nbformat_minor": 2
}
