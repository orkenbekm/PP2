{
 "cells": [
  {
   "cell_type": "markdown",
   "metadata": {},
   "source": [
    "**Напечатайте свое имя и фамилию с помощью <code>input()</code> и <code>.format</code>.**"
   ]
  },
  {
   "cell_type": "code",
   "execution_count": 3,
   "metadata": {},
   "outputs": [
    {
     "name": "stdout",
     "output_type": "stream",
     "text": [
      "Сіздің аты-жөнініз: Нұрасыл Нұрғазин\n"
     ]
    }
   ],
   "source": [
    "# Есім мен текті сұраймыз\n",
    "name = input(\"Есіміңізді енгізіңіз: \")\n",
    "surname = input(\"Тегіңізді енгізіңіз: \")\n",
    "\n",
    "# Нәтижені .format арқылы шығарамыз\n",
    "print(\"Сіздің аты-жөнініз: {} {}\".format(name, surname))"
   ]
  },
  {
   "cell_type": "markdown",
   "metadata": {},
   "source": [
    "**1) Напишите выражение, равное 65. Например: 50 + 15; 72-7; 10 * 6 + 5 и. т. д. Попробуйте использовать больше арифметических операторов.**"
   ]
  },
  {
   "cell_type": "code",
   "execution_count": 5,
   "metadata": {},
   "outputs": [
    {
     "name": "stdout",
     "output_type": "stream",
     "text": [
      "65\n"
     ]
    }
   ],
   "source": [
    "number = ((5 ** 2) * 2) + (100 // 5) - (10 * 3) + 55-(6*5)\n",
    "print(number)  # Нәтиже: 65"
   ]
  },
  {
   "cell_type": "markdown",
   "metadata": {},
   "source": [
    "**2) Напишите уравнение, которое использует умножение, деление, показатель степени, сложение и вычитание, равное 70.25.**"
   ]
  },
  {
   "cell_type": "code",
   "execution_count": 11,
   "metadata": {},
   "outputs": [
    {
     "name": "stdout",
     "output_type": "stream",
     "text": [
      "70.25\n"
     ]
    }
   ],
   "source": [
    "number = (6 ** 2) + (100 / 4) - (5 * 2) + 19.25\n",
    "print(number)  # Нәтиже: 70.25"
   ]
  },
  {
   "cell_type": "markdown",
   "metadata": {},
   "source": [
    "**3) Какой тип имеет результат выражения 3 + 1,5 + 4?**"
   ]
  },
  {
   "cell_type": "code",
   "execution_count": 13,
   "metadata": {},
   "outputs": [
    {
     "name": "stdout",
     "output_type": "stream",
     "text": [
      "Нәтиже: 8.5\n",
      "Нәтиженің типі: <class 'float'>\n"
     ]
    }
   ],
   "source": [
    "result = 3 + 1.5 + 4\n",
    "print(\"Нәтиже:\", result)\n",
    "print(\"Нәтиженің типі:\", type(result))"
   ]
  },
  {
   "cell_type": "markdown",
   "metadata": {},
   "source": [
    "**4) Что бы вы использовали, чтобы найти квадратный корень числа, а также его квадрат? Приведите примеры.**"
   ]
  },
  {
   "cell_type": "code",
   "execution_count": 15,
   "metadata": {},
   "outputs": [
    {
     "name": "stdout",
     "output_type": "stream",
     "text": [
      "16 санының квадраттық түбірі: 4.0\n",
      "16 санының квадраты: 256\n"
     ]
    }
   ],
   "source": [
    "import math\n",
    "\n",
    "# Пайдаланатын сан\n",
    "number = 16\n",
    "\n",
    "# Квадраттық түбір\n",
    "square_root = math.sqrt(number)\n",
    "print(f\"{number} санының квадраттық түбірі: {square_root}\")\n",
    "\n",
    "# Квадрат\n",
    "square = number ** 2\n",
    "print(f\"{number} санының квадраты: {square}\")"
   ]
  },
  {
   "cell_type": "markdown",
   "metadata": {},
   "source": [
    "**5) Какой остаток дает число 100 при делении на 7?**"
   ]
  },
  {
   "cell_type": "code",
   "execution_count": 17,
   "metadata": {},
   "outputs": [
    {
     "name": "stdout",
     "output_type": "stream",
     "text": [
      "100 ді 7 ге бөлгендегі қалдығы:  2\n"
     ]
    }
   ],
   "source": [
    "print(\"100 ді 7 ге бөлгендегі қалдығы: \", 100%7)"
   ]
  },
  {
   "cell_type": "markdown",
   "metadata": {},
   "source": [
    "**6) 7 в 3-й степени?**"
   ]
  },
  {
   "cell_type": "code",
   "execution_count": 20,
   "metadata": {},
   "outputs": [
    {
     "name": "stdout",
     "output_type": "stream",
     "text": [
      "7 нің 3 дәрежесі:  343\n"
     ]
    }
   ],
   "source": [
    "print(\"7 нің 3 дәрежесі: \", 7**3)"
   ]
  },
  {
   "cell_type": "markdown",
   "metadata": {},
   "source": [
    "**7) Прочитайте два целых числа и выведите три строки, где:**\n",
    "\n",
    "а) Первая строка содержит сумму двух чисел.\n",
    "\n",
    "б) Вторая строка содержит разницу двух чисел (первое - второе).\n",
    "\n",
    "в) Третья строка содержит произведение двух чисел.\n",
    "\n",
    "**Tip**: <code>a = int(input())</code>"
   ]
  },
  {
   "cell_type": "code",
   "execution_count": 24,
   "metadata": {},
   "outputs": [
    {
     "name": "stdout",
     "output_type": "stream",
     "text": [
      " 10\n",
      " 4\n"
     ]
    },
    {
     "name": "stdout",
     "output_type": "stream",
     "text": [
      "14\n",
      "6\n",
      "40\n"
     ]
    }
   ],
   "source": [
    "# Екі бүтін санды оқу\n",
    "a = int(input())\n",
    "b = int(input())\n",
    "\n",
    "# Қосындыны шығару\n",
    "print(a + b)\n",
    "\n",
    "# Айырманы шығару\n",
    "print(a - b)\n",
    "\n",
    "# Көбейтіндісін шығару\n",
    "print(a * b)"
   ]
  },
  {
   "cell_type": "markdown",
   "metadata": {},
   "source": [
    "**8) Прочитайте два целых числа и выведите две строки.** \n",
    "\n",
    "a) Первая строка должна содержать целочисленное деление(integer division), <code>//</code>. \n",
    "\n",
    "b) Вторая строка должна содержать деление на число с плавающей запятой(float division), <code>/</code>."
   ]
  },
  {
   "cell_type": "code",
   "execution_count": 26,
   "metadata": {},
   "outputs": [
    {
     "name": "stdout",
     "output_type": "stream",
     "text": [
      " 10\n",
      " 4\n"
     ]
    },
    {
     "name": "stdout",
     "output_type": "stream",
     "text": [
      "2\n",
      "2.5\n"
     ]
    }
   ],
   "source": [
    "# Екі бүтін санды оқу\n",
    "a = int(input())\n",
    "b = int(input())\n",
    "\n",
    "# Бүтін бөлуді шығару\n",
    "print(a // b)\n",
    "\n",
    "# Шынайы бөлуді шығару\n",
    "print(a / b)"
   ]
  },
  {
   "cell_type": "markdown",
   "metadata": {},
   "source": [
    "# Прекрасная работа!"
   ]
  }
 ],
 "metadata": {
  "kernelspec": {
   "display_name": "Python [conda env:base] *",
   "language": "python",
   "name": "conda-base-py"
  },
  "language_info": {
   "codemirror_mode": {
    "name": "ipython",
    "version": 3
   },
   "file_extension": ".py",
   "mimetype": "text/x-python",
   "name": "python",
   "nbconvert_exporter": "python",
   "pygments_lexer": "ipython3",
   "version": "3.12.7"
  }
 },
 "nbformat": 4,
 "nbformat_minor": 4
}
