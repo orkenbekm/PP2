{
 "cells": [
  {
   "cell_type": "markdown",
   "metadata": {},
   "source": [
    "### ООП: Введение [Домашнее задание]\n",
    "\n",
    "Пожалуйста, создайте класс Car со следующими атрибутами: model, year, engine и методы: start_car(), stop_car()."
   ]
  },
  {
   "cell_type": "code",
   "execution_count": 1,
   "metadata": {},
   "outputs": [],
   "source": [
    "class Car:\n",
    "    # Начало вашего кода\n",
    "    def __init__(self, model=\"\", year=0, engine=\"\"):\n",
    "        self.model = model\n",
    "        self.year = year\n",
    "        self.engine = engine\n",
    "\n",
    "    def start_car(self):\n",
    "        print(f\"{self.model} with {self.engine} engine of {self.year} is started\")\n",
    "\n",
    "    def stop_car(self):\n",
    "        print(f\"{self.model} with {self.engine} engine of {self.year} is stopped\")\n",
    "    # Конец вашего кода"
   ]
  },
  {
   "cell_type": "code",
   "execution_count": 2,
   "metadata": {},
   "outputs": [],
   "source": [
    "audi = Car()\n",
    "audi.model = \"Audi A4\"\n",
    "audi.engine = \"1.8-litre 20v\"\n",
    "audi.year = 2011"
   ]
  },
  {
   "cell_type": "code",
   "execution_count": 3,
   "metadata": {},
   "outputs": [
    {
     "name": "stdout",
     "output_type": "stream",
     "text": [
      "Audi A4 with 1.8-litre 20v engine of 2011 is started\n",
      "Audi A4 with 1.8-litre 20v engine of 2011 is stopped\n"
     ]
    }
   ],
   "source": [
    "audi.start_car()\n",
    "audi.stop_car()"
   ]
  },
  {
   "cell_type": "markdown",
   "metadata": {},
   "source": [
    "### Ожидаемый результат:\n",
    "```\n",
    "Audi A4 with 1.8-litre 20v engine of 2011 is started\n",
    "Audi A4 with 1.8-litre 20v engine of 2011 is stopped\n",
    "```"
   ]
  }
 ],
 "metadata": {
  "kernelspec": {
   "display_name": "Python [conda env:base] *",
   "language": "python",
   "name": "conda-base-py"
  },
  "language_info": {
   "codemirror_mode": {
    "name": "ipython",
    "version": 3
   },
   "file_extension": ".py",
   "mimetype": "text/x-python",
   "name": "python",
   "nbconvert_exporter": "python",
   "pygments_lexer": "ipython3",
   "version": "3.12.7"
  }
 },
 "nbformat": 4,
 "nbformat_minor": 2
}
