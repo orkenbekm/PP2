{
 "cells": [
  {
   "cell_type": "markdown",
   "metadata": {},
   "source": [
    "### ООП: Конструктор [Домашнее задание]"
   ]
  },
  {
   "cell_type": "markdown",
   "metadata": {},
   "source": [
    "Создайте класс **Person**. Он должен содержать атрибут класса «count» (который покажет количество созданных объектов) и атрибуты экземпляра, такие как имя, фамилия, возраст, занятость, пол, национальность. Также определите методы, такие как **year_born(cur_year)**, **get_name()**, **get_nationality()**, **get_age()**, **get_occupation()**. Обратите внимание, что метод **year_born(cur_year)** возвращает год рождения человека. \n",
    "\n",
    "\n",
    "**Не забудьте использовать конструктор.**"
   ]
  },
  {
   "cell_type": "code",
   "execution_count": 25,
   "metadata": {},
   "outputs": [],
   "source": [
    "class Person:\n",
    "    # Начало вашего кода \n",
    "    count = 0  \n",
    "\n",
    "    def __init__(self, name, family_name, age, occupation, nationality):\n",
    "        self.name = name\n",
    "        self.family_name = family_name\n",
    "        self.age = age\n",
    "        self.occupation = occupation\n",
    "        self.nationality = nationality\n",
    "        Person.count += 1 \n",
    "\n",
    "    def year_born(self, cur_year):\n",
    "        year =cur_year - self.age\n",
    "        print(f\"{self.name} {self.family_name} was born in {year}\")\n",
    "        return year\n",
    "\n",
    "    def get_name(self):\n",
    "        return f\"{self.name} {self.family_name}\"\n",
    "\n",
    "    def get_nationality(self):\n",
    "        return self.nationality\n",
    "\n",
    "    def get_age(self):\n",
    "        return self.age\n",
    "\n",
    "    def get_occupation(self):\n",
    "        return self.occupation\n",
    "    # Конец вашего кода"
   ]
  },
  {
   "cell_type": "code",
   "execution_count": 26,
   "metadata": {},
   "outputs": [],
   "source": [
    "person1 = Person(name=\"Brad\", family_name=\"Pitt\", age=50, occupation=\"actor\", nationality=\"American\")"
   ]
  },
  {
   "cell_type": "code",
   "execution_count": 27,
   "metadata": {},
   "outputs": [
    {
     "name": "stdout",
     "output_type": "stream",
     "text": [
      "Brad Pitt was born in 1969\n"
     ]
    }
   ],
   "source": [
    "year_born = person1.year_born(cur_year=2019)"
   ]
  },
  {
   "cell_type": "markdown",
   "metadata": {},
   "source": [
    "### Ожидаемый результат:\n",
    "```\n",
    "Brad Pitt was born in 1969\n",
    "```"
   ]
  },
  {
   "cell_type": "code",
   "execution_count": 28,
   "metadata": {},
   "outputs": [],
   "source": [
    "name = person1.get_name()\n",
    "age = person1.get_age()\n",
    "nationality = person1.get_nationality()\n",
    "occupation = person1.get_occupation()"
   ]
  },
  {
   "cell_type": "code",
   "execution_count": 29,
   "metadata": {},
   "outputs": [
    {
     "name": "stdout",
     "output_type": "stream",
     "text": [
      "1969\n",
      "Brad Pitt\n",
      "50\n",
      "American\n",
      "actor\n",
      "1\n"
     ]
    }
   ],
   "source": [
    "print(year_born)\n",
    "print(name)\n",
    "print(age)\n",
    "print(nationality)\n",
    "print(occupation)\n",
    "print(person1.count)"
   ]
  },
  {
   "cell_type": "markdown",
   "metadata": {},
   "source": [
    "### Ожидаемый результат:\n",
    "```\n",
    "1969\n",
    "Brad Pitt\n",
    "50\n",
    "American\n",
    "actor\n",
    "1\n",
    "```"
   ]
  },
  {
   "cell_type": "code",
   "execution_count": 30,
   "metadata": {},
   "outputs": [],
   "source": [
    "person2 = Person(name=\"Donald\", family_name=\"Trump\", age=70, occupation=\"president\", nationality=\"American\")"
   ]
  },
  {
   "cell_type": "code",
   "execution_count": 31,
   "metadata": {},
   "outputs": [
    {
     "name": "stdout",
     "output_type": "stream",
     "text": [
      "Donald Trump was born in 1949\n"
     ]
    }
   ],
   "source": [
    "year_born = person2.year_born(cur_year=2019)"
   ]
  },
  {
   "cell_type": "markdown",
   "metadata": {},
   "source": [
    "### Ожидаемый результат:\n",
    "```\n",
    "Donald Trump was born in 1949\n",
    "```"
   ]
  },
  {
   "cell_type": "code",
   "execution_count": 32,
   "metadata": {},
   "outputs": [],
   "source": [
    "name = person2.get_name()\n",
    "age = person2.get_age()\n",
    "nationality = person2.get_nationality()\n",
    "occupation = person2.get_occupation()"
   ]
  },
  {
   "cell_type": "code",
   "execution_count": 33,
   "metadata": {},
   "outputs": [
    {
     "name": "stdout",
     "output_type": "stream",
     "text": [
      "1949\n",
      "Donald Trump\n",
      "70\n",
      "American\n",
      "president\n",
      "2\n"
     ]
    }
   ],
   "source": [
    "print(year_born)\n",
    "print(name)\n",
    "print(age)\n",
    "print(nationality)\n",
    "print(occupation)\n",
    "print(person1.count)"
   ]
  },
  {
   "cell_type": "markdown",
   "metadata": {},
   "source": [
    "### Ожидаемый результат:\n",
    "```\n",
    "1949\n",
    "Donald Trump\n",
    "70\n",
    "American\n",
    "president\n",
    "2\n",
    "```"
   ]
  }
 ],
 "metadata": {
  "kernelspec": {
   "display_name": "Python [conda env:base] *",
   "language": "python",
   "name": "conda-base-py"
  },
  "language_info": {
   "codemirror_mode": {
    "name": "ipython",
    "version": 3
   },
   "file_extension": ".py",
   "mimetype": "text/x-python",
   "name": "python",
   "nbconvert_exporter": "python",
   "pygments_lexer": "ipython3",
   "version": "3.12.7"
  }
 },
 "nbformat": 4,
 "nbformat_minor": 2
}
