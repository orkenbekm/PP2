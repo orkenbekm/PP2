{
 "cells": [
  {
   "cell_type": "markdown",
   "metadata": {},
   "source": [
    "### Функции: Введение [Домашнее задание]\n",
    "\n",
    "Создайте функцию sum_integers, которая принимает два аргумента a и b, для суммирования от положительного целого числа a до положительного целого числа b.\n",
    "\n",
    "Пример: sum_integers (3,5) должен вернуть 12. (3 + 4 + 5 = 12)"
   ]
  },
  {
   "cell_type": "code",
   "execution_count": 8,
   "metadata": {},
   "outputs": [],
   "source": [
    "def sum_integers(a, b):\n",
    "    # Начало вашего кода \n",
    "    sum = 0\n",
    "    for i in range(a,b+1):\n",
    "        sum+=i\n",
    "\n",
    "    return sum\n",
    "    # Конец вашего кода"
   ]
  },
  {
   "cell_type": "code",
   "execution_count": 9,
   "metadata": {},
   "outputs": [
    {
     "name": "stdout",
     "output_type": "stream",
     "text": [
      "12\n",
      "55\n"
     ]
    }
   ],
   "source": [
    "print(sum_integers(3,5))\n",
    "print(sum_integers(0,10))"
   ]
  },
  {
   "cell_type": "markdown",
   "metadata": {},
   "source": [
    "### Ожидаемый результат:\n",
    "```\n",
    "12\n",
    "55\n",
    "```"
   ]
  }
 ],
 "metadata": {
  "kernelspec": {
   "display_name": "Python [conda env:base] *",
   "language": "python",
   "name": "conda-base-py"
  },
  "language_info": {
   "codemirror_mode": {
    "name": "ipython",
    "version": 3
   },
   "file_extension": ".py",
   "mimetype": "text/x-python",
   "name": "python",
   "nbconvert_exporter": "python",
   "pygments_lexer": "ipython3",
   "version": "3.12.7"
  }
 },
 "nbformat": 4,
 "nbformat_minor": 2
}
